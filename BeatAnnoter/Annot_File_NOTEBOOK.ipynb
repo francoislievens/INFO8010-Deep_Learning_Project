{
 "cells": [
  {
   "cell_type": "code",
   "execution_count": 1,
   "id": "animal-immune",
   "metadata": {},
   "outputs": [],
   "source": [
    "import pandas as pd\n",
    "import numpy as np\n",
    "import matplotlib.pyplot as plt\n",
    "name='BetaClassif_C'\n",
    "device = 'cuda:0'\n",
    "from BeatClassifier import BeatClassifier\n",
    "import wfdb\n",
    "import Utils\n",
    "file_path = 'D:/ECG/mit/231'"
   ]
  },
  {
   "cell_type": "code",
   "execution_count": 3,
   "id": "reflected-negotiation",
   "metadata": {},
   "outputs": [
    {
     "name": "stdout",
     "output_type": "stream",
     "text": [
      "Successfully restore model BetaClassif_C at epoch 16\n"
     ]
    }
   ],
   "source": [
    "# Import and restore the model\n",
    "model = BeatClassifier(name=name).to(device)\n",
    "model.restore(epoch=16)"
   ]
  },
  {
   "cell_type": "code",
   "execution_count": null,
   "id": "distributed-promotion",
   "metadata": {},
   "outputs": [],
   "source": [
    "# Load and pre-process the file\n",
    "file_path = 'D:/ECG/mit/231'\n",
    "signal = wfdb.rdrecord(file_path)\n",
    "signal = signal.p_signal.T\n",
    "signal = Utils.filtering(signal, freq_adapter=True)\n",
    "signal *= 1000"
   ]
  }
 ],
 "metadata": {
  "kernelspec": {
   "display_name": "Python 3",
   "language": "python",
   "name": "python3"
  },
  "language_info": {
   "codemirror_mode": {
    "name": "ipython",
    "version": 3
   },
   "file_extension": ".py",
   "mimetype": "text/x-python",
   "name": "python",
   "nbconvert_exporter": "python",
   "pygments_lexer": "ipython3",
   "version": "3.8.8"
  }
 },
 "nbformat": 4,
 "nbformat_minor": 5
}
